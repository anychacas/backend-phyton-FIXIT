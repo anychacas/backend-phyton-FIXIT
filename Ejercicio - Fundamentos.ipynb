{
 "cells": [
  {
   "cell_type": "markdown",
   "id": "91068656",
   "metadata": {},
   "source": [
    "## Pedir al usuario INT"
   ]
  },
  {
   "cell_type": "code",
   "execution_count": 13,
   "id": "8094902d",
   "metadata": {},
   "outputs": [
    {
     "name": "stdout",
     "output_type": "stream",
     "text": [
      "Ingresa un numero entero: 14\n",
      "El valor es ingresado es:  14\n",
      "<class 'int'>\n"
     ]
    }
   ],
   "source": [
    "# Entero / Int\n",
    "my_input = eval (input (\"Ingresa un numero entero: \"))\n",
    "print(\"El valor es ingresado es: \",my_input)\n",
    "print(type(my_input))"
   ]
  },
  {
   "cell_type": "markdown",
   "id": "c87da556",
   "metadata": {},
   "source": [
    "## Pedir al usuario un FLOAT "
   ]
  },
  {
   "cell_type": "code",
   "execution_count": 18,
   "id": "34d13694",
   "metadata": {},
   "outputs": [
    {
     "name": "stdout",
     "output_type": "stream",
     "text": [
      "Ingresa un numero con decimales: 14.5\n",
      "El valor es ingresado es:  14.5\n",
      "<class 'float'>\n"
     ]
    }
   ],
   "source": [
    "# Flotante / Float\n",
    "my_input = eval (input (\"Ingresa un numero con decimales: \"))\n",
    "print(\"El valor es ingresado es: \",my_input)\n",
    "print(type(my_input))"
   ]
  },
  {
   "cell_type": "markdown",
   "id": "ea6bfbd4",
   "metadata": {},
   "source": [
    "## Pedir al usuario un STRING"
   ]
  },
  {
   "cell_type": "code",
   "execution_count": 19,
   "id": "95880383",
   "metadata": {},
   "outputs": [
    {
     "name": "stdout",
     "output_type": "stream",
     "text": [
      "En que ciudad vives: Tijuana\n",
      "El usuario vive en:  Tijuana\n",
      "<class 'str'>\n"
     ]
    }
   ],
   "source": [
    "# Cadena / String\n",
    "my_input =  (input (\"En que ciudad vives: \"))\n",
    "print(\"El usuario vive en: \",my_input)\n",
    "print(type(my_input))"
   ]
  },
  {
   "cell_type": "code",
   "execution_count": null,
   "id": "0ca40551",
   "metadata": {},
   "outputs": [],
   "source": []
  }
 ],
 "metadata": {
  "kernelspec": {
   "display_name": "Python 3 (ipykernel)",
   "language": "python",
   "name": "python3"
  },
  "language_info": {
   "codemirror_mode": {
    "name": "ipython",
    "version": 3
   },
   "file_extension": ".py",
   "mimetype": "text/x-python",
   "name": "python",
   "nbconvert_exporter": "python",
   "pygments_lexer": "ipython3",
   "version": "3.11.5"
  }
 },
 "nbformat": 4,
 "nbformat_minor": 5
}
